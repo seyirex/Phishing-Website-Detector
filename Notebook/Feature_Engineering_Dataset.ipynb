{
 "cells": [
  {
   "cell_type": "markdown",
   "id": "a9773ad8",
   "metadata": {
    "id": "a9773ad8"
   },
   "source": [
    "# Phishing Website Detection by Machine Learning - Feature Extraction"
   ]
  },
  {
   "cell_type": "markdown",
   "id": "fb877368",
   "metadata": {
    "id": "fb877368"
   },
   "source": [
    "This notebook aims to collect the relevant data and extract the selective features."
   ]
  },
  {
   "cell_type": "code",
   "execution_count": 2,
   "id": "175f5745",
   "metadata": {
    "id": "175f5745"
   },
   "outputs": [],
   "source": [
    "import os\n",
    "import requests\n",
    "import pandas as pd\n",
    "from urllib.parse import urlparse, urlencode\n",
    "import ipaddress\n",
    "import re\n",
    "from bs4 import BeautifulSoup\n",
    "import urllib\n",
    "import urllib.request\n",
    "from datetime import datetime"
   ]
  },
  {
   "cell_type": "markdown",
   "id": "e0a428e4",
   "metadata": {
    "id": "e0a428e4"
   },
   "source": [
    "# 1. Data Collection:"
   ]
  },
  {
   "cell_type": "markdown",
   "id": "9f7cc7c7",
   "metadata": {
    "id": "9f7cc7c7"
   },
   "source": [
    "For this project we are required to collect legitimate(0) and phishing URLs.\n",
    "\n",
    "- Phishing URLs are collected using opensource service called PhishTank, http://data.phishtank.com/data/online-valid.csv.\n",
    "- Legitimate URLs are collected using dataset provided by University of New Brunswick, https://www.unb.ca/cic/datasets/url-2016.html. The number of legitimate URLs in this collection are 35,300. Among all the files, 'Benign_list_big_final.csv' is the file of our interest. "
   ]
  },
  {
   "cell_type": "markdown",
   "id": "ae0f12f2",
   "metadata": {
    "id": "ae0f12f2"
   },
   "source": [
    "## 1.1. Phishing URLs:"
   ]
  },
  {
   "cell_type": "markdown",
   "id": "913a6cab",
   "metadata": {
    "id": "913a6cab"
   },
   "source": [
    "Phishing URLs are collected using PhishTank and loaded into the DataFrame."
   ]
  },
  {
   "cell_type": "code",
   "execution_count": null,
   "id": "911da634",
   "metadata": {
    "id": "911da634"
   },
   "outputs": [],
   "source": [
    "# #Downloading the phishing URLs file\n",
    "\n",
    "# CSV_URL = 'http://data.phishtank.com/data/online-valid.csv'\n",
    "\n",
    "# with open(\"Dataset/\" + os.path.split(CSV_URL)[1] , 'wb') as f, \\\n",
    "#         requests.get(CSV_URL, stream=True) as r:\n",
    "#     for line in r.iter_lines():\n",
    "#         f.write(line+'\\n'.encode())"
   ]
  },
  {
   "cell_type": "code",
   "execution_count": null,
   "id": "624d7620",
   "metadata": {
    "id": "624d7620"
   },
   "outputs": [],
   "source": [
    "path = \"Dataset//online-valid.csv\"\n",
    "df_phishing = pd.read_csv(path)"
   ]
  },
  {
   "cell_type": "code",
   "execution_count": null,
   "id": "ec861eb3",
   "metadata": {
    "colab": {
     "base_uri": "https://localhost:8080/",
     "height": 313
    },
    "id": "ec861eb3",
    "outputId": "c7d2e61d-c981-477b-e6eb-9f294394c540"
   },
   "outputs": [
    {
     "data": {
      "text/html": [
       "<div>\n",
       "<style scoped>\n",
       "    .dataframe tbody tr th:only-of-type {\n",
       "        vertical-align: middle;\n",
       "    }\n",
       "\n",
       "    .dataframe tbody tr th {\n",
       "        vertical-align: top;\n",
       "    }\n",
       "\n",
       "    .dataframe thead th {\n",
       "        text-align: right;\n",
       "    }\n",
       "</style>\n",
       "<table border=\"1\" class=\"dataframe\">\n",
       "  <thead>\n",
       "    <tr style=\"text-align: right;\">\n",
       "      <th></th>\n",
       "      <th>phish_id</th>\n",
       "      <th>url</th>\n",
       "      <th>phish_detail_url</th>\n",
       "      <th>submission_time</th>\n",
       "      <th>verified</th>\n",
       "      <th>verification_time</th>\n",
       "      <th>online</th>\n",
       "      <th>target</th>\n",
       "    </tr>\n",
       "  </thead>\n",
       "  <tbody>\n",
       "    <tr>\n",
       "      <th>0</th>\n",
       "      <td>7380286</td>\n",
       "      <td>https://gastroutes.com/chss.imc/pnnc.php</td>\n",
       "      <td>http://www.phishtank.com/phish_detail.php?phis...</td>\n",
       "      <td>2021-12-10T06:01:05+00:00</td>\n",
       "      <td>yes</td>\n",
       "      <td>2021-12-10T06:15:42+00:00</td>\n",
       "      <td>yes</td>\n",
       "      <td>ABSA Bank</td>\n",
       "    </tr>\n",
       "    <tr>\n",
       "      <th>1</th>\n",
       "      <td>7380283</td>\n",
       "      <td>http://www.mygotopoolguy.com/chss.imc/pnnc.php</td>\n",
       "      <td>http://www.phishtank.com/phish_detail.php?phis...</td>\n",
       "      <td>2021-12-10T06:00:58+00:00</td>\n",
       "      <td>yes</td>\n",
       "      <td>2021-12-10T06:15:42+00:00</td>\n",
       "      <td>yes</td>\n",
       "      <td>ABSA Bank</td>\n",
       "    </tr>\n",
       "    <tr>\n",
       "      <th>2</th>\n",
       "      <td>7380251</td>\n",
       "      <td>https://www.correios-cttenviar-encomenda.com/P...</td>\n",
       "      <td>http://www.phishtank.com/phish_detail.php?phis...</td>\n",
       "      <td>2021-12-10T03:33:15+00:00</td>\n",
       "      <td>yes</td>\n",
       "      <td>2021-12-10T04:41:02+00:00</td>\n",
       "      <td>yes</td>\n",
       "      <td>Other</td>\n",
       "    </tr>\n",
       "    <tr>\n",
       "      <th>3</th>\n",
       "      <td>7380245</td>\n",
       "      <td>https://jp-mesaori-ojpbk.com/</td>\n",
       "      <td>http://www.phishtank.com/phish_detail.php?phis...</td>\n",
       "      <td>2021-12-10T02:55:27+00:00</td>\n",
       "      <td>yes</td>\n",
       "      <td>2021-12-10T04:04:53+00:00</td>\n",
       "      <td>yes</td>\n",
       "      <td>Other</td>\n",
       "    </tr>\n",
       "    <tr>\n",
       "      <th>4</th>\n",
       "      <td>7380233</td>\n",
       "      <td>https://www.jeifjsjejw.xyz/</td>\n",
       "      <td>http://www.phishtank.com/phish_detail.php?phis...</td>\n",
       "      <td>2021-12-10T01:46:07+00:00</td>\n",
       "      <td>yes</td>\n",
       "      <td>2021-12-10T01:52:02+00:00</td>\n",
       "      <td>yes</td>\n",
       "      <td>Other</td>\n",
       "    </tr>\n",
       "  </tbody>\n",
       "</table>\n",
       "</div>"
      ],
      "text/plain": [
       "   phish_id  ...     target\n",
       "0   7380286  ...  ABSA Bank\n",
       "1   7380283  ...  ABSA Bank\n",
       "2   7380251  ...      Other\n",
       "3   7380245  ...      Other\n",
       "4   7380233  ...      Other\n",
       "\n",
       "[5 rows x 8 columns]"
      ]
     },
     "execution_count": 5,
     "metadata": {},
     "output_type": "execute_result"
    }
   ],
   "source": [
    "df_phishing.head()"
   ]
  },
  {
   "cell_type": "code",
   "execution_count": null,
   "id": "490d3e16",
   "metadata": {
    "colab": {
     "base_uri": "https://localhost:8080/"
    },
    "id": "490d3e16",
    "outputId": "e3d482bf-6fe0-4ab4-901f-53f04e60655f"
   },
   "outputs": [
    {
     "data": {
      "text/plain": [
       "phish_id             0\n",
       "url                  0\n",
       "phish_detail_url     0\n",
       "submission_time      0\n",
       "verified             0\n",
       "verification_time    0\n",
       "online               0\n",
       "target               0\n",
       "dtype: int64"
      ]
     },
     "execution_count": 6,
     "metadata": {},
     "output_type": "execute_result"
    }
   ],
   "source": [
    "df_phishing.isnull().sum()"
   ]
  },
  {
   "cell_type": "code",
   "execution_count": null,
   "id": "8b33b551",
   "metadata": {
    "colab": {
     "base_uri": "https://localhost:8080/"
    },
    "id": "8b33b551",
    "outputId": "a4dbce68-37f3-40ec-8b8e-0f5538d132ce"
   },
   "outputs": [
    {
     "data": {
      "text/plain": [
       "(11487, 8)"
      ]
     },
     "execution_count": 7,
     "metadata": {},
     "output_type": "execute_result"
    }
   ],
   "source": [
    "df_phishing.shape"
   ]
  },
  {
   "cell_type": "markdown",
   "id": "55387218",
   "metadata": {
    "id": "55387218"
   },
   "source": [
    "We would pick up 5000 samples from the above dataframe randomly."
   ]
  },
  {
   "cell_type": "code",
   "execution_count": null,
   "id": "6d5e518e",
   "metadata": {
    "colab": {
     "base_uri": "https://localhost:8080/",
     "height": 313
    },
    "id": "6d5e518e",
    "outputId": "d8ccf9f6-10ba-4ba4-dcab-6cd0249c453e"
   },
   "outputs": [
    {
     "data": {
      "text/html": [
       "<div>\n",
       "<style scoped>\n",
       "    .dataframe tbody tr th:only-of-type {\n",
       "        vertical-align: middle;\n",
       "    }\n",
       "\n",
       "    .dataframe tbody tr th {\n",
       "        vertical-align: top;\n",
       "    }\n",
       "\n",
       "    .dataframe thead th {\n",
       "        text-align: right;\n",
       "    }\n",
       "</style>\n",
       "<table border=\"1\" class=\"dataframe\">\n",
       "  <thead>\n",
       "    <tr style=\"text-align: right;\">\n",
       "      <th></th>\n",
       "      <th>phish_id</th>\n",
       "      <th>url</th>\n",
       "      <th>phish_detail_url</th>\n",
       "      <th>submission_time</th>\n",
       "      <th>verified</th>\n",
       "      <th>verification_time</th>\n",
       "      <th>online</th>\n",
       "      <th>target</th>\n",
       "    </tr>\n",
       "  </thead>\n",
       "  <tbody>\n",
       "    <tr>\n",
       "      <th>0</th>\n",
       "      <td>7236797</td>\n",
       "      <td>http://meriprocaseinbanfro.42web.io/?i=1</td>\n",
       "      <td>http://www.phishtank.com/phish_detail.php?phis...</td>\n",
       "      <td>2021-07-21T02:13:31+00:00</td>\n",
       "      <td>yes</td>\n",
       "      <td>2021-07-22T11:07:20+00:00</td>\n",
       "      <td>yes</td>\n",
       "      <td>Other</td>\n",
       "    </tr>\n",
       "    <tr>\n",
       "      <th>1</th>\n",
       "      <td>6557140</td>\n",
       "      <td>http://betasus111.blogspot.com</td>\n",
       "      <td>http://www.phishtank.com/phish_detail.php?phis...</td>\n",
       "      <td>2020-05-09T23:57:08+00:00</td>\n",
       "      <td>yes</td>\n",
       "      <td>2020-05-10T00:11:42+00:00</td>\n",
       "      <td>yes</td>\n",
       "      <td>Other</td>\n",
       "    </tr>\n",
       "    <tr>\n",
       "      <th>2</th>\n",
       "      <td>7362306</td>\n",
       "      <td>http://roygijvhluozwnflsypmewrstt-dot-gl443933...</td>\n",
       "      <td>http://www.phishtank.com/phish_detail.php?phis...</td>\n",
       "      <td>2021-11-24T15:01:10+00:00</td>\n",
       "      <td>yes</td>\n",
       "      <td>2021-11-24T15:11:17+00:00</td>\n",
       "      <td>yes</td>\n",
       "      <td>Other</td>\n",
       "    </tr>\n",
       "    <tr>\n",
       "      <th>3</th>\n",
       "      <td>7273596</td>\n",
       "      <td>https://appurl.io/k8Hy2cVo8X</td>\n",
       "      <td>http://www.phishtank.com/phish_detail.php?phis...</td>\n",
       "      <td>2021-08-25T17:28:13+00:00</td>\n",
       "      <td>yes</td>\n",
       "      <td>2021-08-25T17:33:38+00:00</td>\n",
       "      <td>yes</td>\n",
       "      <td>Other</td>\n",
       "    </tr>\n",
       "    <tr>\n",
       "      <th>4</th>\n",
       "      <td>7161334</td>\n",
       "      <td>https://richardbashara.com/secure/login/paypal</td>\n",
       "      <td>http://www.phishtank.com/phish_detail.php?phis...</td>\n",
       "      <td>2021-06-07T15:02:10+00:00</td>\n",
       "      <td>yes</td>\n",
       "      <td>2021-06-07T15:05:14+00:00</td>\n",
       "      <td>yes</td>\n",
       "      <td>Other</td>\n",
       "    </tr>\n",
       "  </tbody>\n",
       "</table>\n",
       "</div>"
      ],
      "text/plain": [
       "   phish_id                                                url  ... online target\n",
       "0   7236797           http://meriprocaseinbanfro.42web.io/?i=1  ...    yes  Other\n",
       "1   6557140                     http://betasus111.blogspot.com  ...    yes  Other\n",
       "2   7362306  http://roygijvhluozwnflsypmewrstt-dot-gl443933...  ...    yes  Other\n",
       "3   7273596                       https://appurl.io/k8Hy2cVo8X  ...    yes  Other\n",
       "4   7161334     https://richardbashara.com/secure/login/paypal  ...    yes  Other\n",
       "\n",
       "[5 rows x 8 columns]"
      ]
     },
     "execution_count": 8,
     "metadata": {},
     "output_type": "execute_result"
    }
   ],
   "source": [
    "#Collecting 5,000 Phishing URLs randomly\n",
    "\n",
    "df_phishing_final = df_phishing.sample(n = 5000, random_state = 12).copy()\n",
    "df_phishing_final = df_phishing_final.reset_index(drop=True)\n",
    "df_phishing_final.head()"
   ]
  },
  {
   "cell_type": "code",
   "execution_count": null,
   "id": "a9c46bef",
   "metadata": {
    "colab": {
     "base_uri": "https://localhost:8080/"
    },
    "id": "a9c46bef",
    "outputId": "cb508eae-ad2d-41c3-bb94-d72e34ef1683"
   },
   "outputs": [
    {
     "data": {
      "text/plain": [
       "(5000, 8)"
      ]
     },
     "execution_count": 9,
     "metadata": {},
     "output_type": "execute_result"
    }
   ],
   "source": [
    "df_phishing_final.shape"
   ]
  },
  {
   "cell_type": "markdown",
   "id": "ada0fb81",
   "metadata": {
    "id": "ada0fb81"
   },
   "source": [
    "## 1.2. Legitimate URLs:"
   ]
  },
  {
   "cell_type": "code",
   "execution_count": null,
   "id": "ab8c8a69",
   "metadata": {
    "id": "ab8c8a69"
   },
   "outputs": [],
   "source": [
    "path = \"Dataset//Benign_list_big_final.csv\"\n",
    "df_legitimate = pd.read_csv(path)\n",
    "df_legitimate.columns = [\"URLs\"]"
   ]
  },
  {
   "cell_type": "code",
   "execution_count": null,
   "id": "21fc42c2",
   "metadata": {
    "colab": {
     "base_uri": "https://localhost:8080/",
     "height": 206
    },
    "id": "21fc42c2",
    "outputId": "55db3132-f15b-4f0f-947f-6bd214ae0125"
   },
   "outputs": [
    {
     "data": {
      "text/html": [
       "<div>\n",
       "<style scoped>\n",
       "    .dataframe tbody tr th:only-of-type {\n",
       "        vertical-align: middle;\n",
       "    }\n",
       "\n",
       "    .dataframe tbody tr th {\n",
       "        vertical-align: top;\n",
       "    }\n",
       "\n",
       "    .dataframe thead th {\n",
       "        text-align: right;\n",
       "    }\n",
       "</style>\n",
       "<table border=\"1\" class=\"dataframe\">\n",
       "  <thead>\n",
       "    <tr style=\"text-align: right;\">\n",
       "      <th></th>\n",
       "      <th>URLs</th>\n",
       "    </tr>\n",
       "  </thead>\n",
       "  <tbody>\n",
       "    <tr>\n",
       "      <th>0</th>\n",
       "      <td>http://1337x.to/torrent/1110018/Blackhat-2015-...</td>\n",
       "    </tr>\n",
       "    <tr>\n",
       "      <th>1</th>\n",
       "      <td>http://1337x.to/torrent/1122940/Blackhat-2015-...</td>\n",
       "    </tr>\n",
       "    <tr>\n",
       "      <th>2</th>\n",
       "      <td>http://1337x.to/torrent/1124395/Fast-and-Furio...</td>\n",
       "    </tr>\n",
       "    <tr>\n",
       "      <th>3</th>\n",
       "      <td>http://1337x.to/torrent/1145504/Avengers-Age-o...</td>\n",
       "    </tr>\n",
       "    <tr>\n",
       "      <th>4</th>\n",
       "      <td>http://1337x.to/torrent/1160078/Avengers-age-o...</td>\n",
       "    </tr>\n",
       "  </tbody>\n",
       "</table>\n",
       "</div>"
      ],
      "text/plain": [
       "                                                URLs\n",
       "0  http://1337x.to/torrent/1110018/Blackhat-2015-...\n",
       "1  http://1337x.to/torrent/1122940/Blackhat-2015-...\n",
       "2  http://1337x.to/torrent/1124395/Fast-and-Furio...\n",
       "3  http://1337x.to/torrent/1145504/Avengers-Age-o...\n",
       "4  http://1337x.to/torrent/1160078/Avengers-age-o..."
      ]
     },
     "execution_count": 11,
     "metadata": {},
     "output_type": "execute_result"
    }
   ],
   "source": [
    "df_legitimate.head()"
   ]
  },
  {
   "cell_type": "code",
   "execution_count": null,
   "id": "c82b600c",
   "metadata": {
    "colab": {
     "base_uri": "https://localhost:8080/",
     "height": 206
    },
    "id": "c82b600c",
    "outputId": "3052596e-072d-4b86-ffe2-c5014692fd97"
   },
   "outputs": [
    {
     "data": {
      "text/html": [
       "<div>\n",
       "<style scoped>\n",
       "    .dataframe tbody tr th:only-of-type {\n",
       "        vertical-align: middle;\n",
       "    }\n",
       "\n",
       "    .dataframe tbody tr th {\n",
       "        vertical-align: top;\n",
       "    }\n",
       "\n",
       "    .dataframe thead th {\n",
       "        text-align: right;\n",
       "    }\n",
       "</style>\n",
       "<table border=\"1\" class=\"dataframe\">\n",
       "  <thead>\n",
       "    <tr style=\"text-align: right;\">\n",
       "      <th></th>\n",
       "      <th>URLs</th>\n",
       "    </tr>\n",
       "  </thead>\n",
       "  <tbody>\n",
       "    <tr>\n",
       "      <th>0</th>\n",
       "      <td>http://graphicriver.net/search?date=this-month...</td>\n",
       "    </tr>\n",
       "    <tr>\n",
       "      <th>1</th>\n",
       "      <td>http://ecnavi.jp/redirect/?url=http://www.cros...</td>\n",
       "    </tr>\n",
       "    <tr>\n",
       "      <th>2</th>\n",
       "      <td>https://hubpages.com/signin?explain=follow+Hub...</td>\n",
       "    </tr>\n",
       "    <tr>\n",
       "      <th>3</th>\n",
       "      <td>http://extratorrent.cc/torrent/4190536/AOMEI+B...</td>\n",
       "    </tr>\n",
       "    <tr>\n",
       "      <th>4</th>\n",
       "      <td>http://icicibank.com/Personal-Banking/offers/o...</td>\n",
       "    </tr>\n",
       "  </tbody>\n",
       "</table>\n",
       "</div>"
      ],
      "text/plain": [
       "                                                URLs\n",
       "0  http://graphicriver.net/search?date=this-month...\n",
       "1  http://ecnavi.jp/redirect/?url=http://www.cros...\n",
       "2  https://hubpages.com/signin?explain=follow+Hub...\n",
       "3  http://extratorrent.cc/torrent/4190536/AOMEI+B...\n",
       "4  http://icicibank.com/Personal-Banking/offers/o..."
      ]
     },
     "execution_count": 12,
     "metadata": {},
     "output_type": "execute_result"
    }
   ],
   "source": [
    "#Collecting 5,000 Legitimate URLs randomly\n",
    "\n",
    "df_legitimate_final = df_legitimate.sample(n = 5000, random_state = 12).copy()\n",
    "df_legitimate_final = df_legitimate_final.reset_index(drop=True)\n",
    "df_legitimate_final.head()"
   ]
  },
  {
   "cell_type": "code",
   "execution_count": null,
   "id": "8662f999",
   "metadata": {
    "colab": {
     "base_uri": "https://localhost:8080/"
    },
    "id": "8662f999",
    "outputId": "ed7edd2a-d6c8-47a2-e4c7-351526eb61ea"
   },
   "outputs": [
    {
     "data": {
      "text/plain": [
       "(5000, 1)"
      ]
     },
     "execution_count": 13,
     "metadata": {},
     "output_type": "execute_result"
    }
   ],
   "source": [
    "df_legitimate_final.shape"
   ]
  },
  {
   "cell_type": "markdown",
   "id": "3366c089",
   "metadata": {
    "id": "3366c089"
   },
   "source": [
    "# 2. Feature Extraction:"
   ]
  },
  {
   "cell_type": "markdown",
   "id": "260a0429",
   "metadata": {
    "id": "260a0429"
   },
   "source": [
    "In this step, features are extracted from the Legitimate URLs dataset.\n",
    "\n",
    "The extracted features are categorized into;\n",
    "\n",
    "1. Address Bar based Features\n",
    "2. Domain based Features\n",
    "3. HTML & Javascript based Features"
   ]
  },
  {
   "cell_type": "markdown",
   "id": "b9c846d4",
   "metadata": {
    "id": "b9c846d4"
   },
   "source": [
    "## 2.1. Address Bar based Features:"
   ]
  },
  {
   "cell_type": "markdown",
   "id": "6ea48d23",
   "metadata": {
    "id": "6ea48d23"
   },
   "source": [
    "Following features are considered as address basr based features;\n",
    "\n",
    "- Domain of URL\n",
    "- IP Address in URL\n",
    "- \"@\" Symbol in URL\n",
    "- Length of URL\n",
    "- Depth of URL\n",
    "- Redirection \"//\" in URL\n",
    "- \"http/https\" in Domain name\n",
    "- Using URL Shortening Services “TinyURL”\n",
    "- Prefix or Suffix \"-\" in Domain"
   ]
  },
  {
   "cell_type": "markdown",
   "id": "2d1ed398",
   "metadata": {
    "id": "2d1ed398"
   },
   "source": [
    "### 2.1.1. Domain of the URL:"
   ]
  },
  {
   "cell_type": "code",
   "execution_count": null,
   "id": "29419b25",
   "metadata": {
    "id": "29419b25"
   },
   "outputs": [],
   "source": [
    "# Extracting the domain of the URL\n",
    "\n",
    "def getDomain(url):\n",
    "    domain = urlparse(url).netloc\n",
    "    if re.match(r\"^www.\", domain):\n",
    "        domain = domain.replace(\"www.\", \"\")\n",
    "    return domain"
   ]
  },
  {
   "cell_type": "markdown",
   "id": "1821bdc6",
   "metadata": {
    "id": "1821bdc6"
   },
   "source": [
    "### 2.1.2. IP Address in the URL:"
   ]
  },
  {
   "cell_type": "markdown",
   "id": "af1ddcb4",
   "metadata": {
    "id": "af1ddcb4"
   },
   "source": [
    "We would check for the presence of IP address in the URL, because URLs may have IP address instead of domain name. If an IP address is used as an alternative of the domain name in the URL this may be one of the feature of phishig website's URL.\n",
    "\n",
    "Hence, If the domain part of the URL has IP address, the value assigned to this feature is 1 (phishing) or else 0 (legitimate)."
   ]
  },
  {
   "cell_type": "code",
   "execution_count": null,
   "id": "64d76219",
   "metadata": {
    "id": "64d76219"
   },
   "outputs": [],
   "source": [
    "# Returns bool(True/False), whether the URL contains IP Address or not\n",
    "\n",
    "def checkIP(url):\n",
    "    try:\n",
    "        ipaddress.ip_address(url)\n",
    "        return True\n",
    "    except:\n",
    "        return False"
   ]
  },
  {
   "cell_type": "markdown",
   "id": "275f7fbf",
   "metadata": {
    "id": "275f7fbf"
   },
   "source": [
    "### 2.1.3. \"@\" Symbol in the URL:"
   ]
  },
  {
   "cell_type": "markdown",
   "id": "245ee505",
   "metadata": {
    "id": "245ee505"
   },
   "source": [
    "We would check for the presence of \"@\" symbol in the URL, because URLs containing \"@\" symbol leads the browser to ignore everything preceding the “@” symbol and the real address often follows the “@” symbol.\n",
    "\n",
    "Hence, If the \"@\" symbol is present in the URL, the value assigned to this feature is 1 (phishing) or else 0 (legitimate)."
   ]
  },
  {
   "cell_type": "code",
   "execution_count": null,
   "id": "ec574d7d",
   "metadata": {
    "id": "ec574d7d"
   },
   "outputs": [],
   "source": [
    "def checkAtSymbol(url):\n",
    "    if (\"@\" in url):\n",
    "        return True\n",
    "    else:\n",
    "        return False"
   ]
  },
  {
   "cell_type": "markdown",
   "id": "944b5ee8",
   "metadata": {
    "id": "944b5ee8"
   },
   "source": [
    "### 2.1.4. Length of the URL:"
   ]
  },
  {
   "cell_type": "markdown",
   "id": "6504a0b2",
   "metadata": {
    "id": "6504a0b2"
   },
   "source": [
    "Here we would compute the length of the URL. Phishers can use long URL to hide the doubtful part in the address bar. Therefore, if the length of the URL is greater than or equal 54 characters then the URL is classified as phishing otherwise legitimate.\n",
    "\n",
    "Hence, If the length of URL >= 54, the value assigned to this feature is 1 (phishing) or else 0 (legitimate)."
   ]
  },
  {
   "cell_type": "code",
   "execution_count": null,
   "id": "5123b564",
   "metadata": {
    "id": "5123b564"
   },
   "outputs": [],
   "source": [
    "def lengthUrl(url):\n",
    "    if(len(url) >= 54):\n",
    "        return 1\n",
    "    else:\n",
    "        return 0"
   ]
  },
  {
   "cell_type": "markdown",
   "id": "5bccec24",
   "metadata": {
    "id": "5bccec24"
   },
   "source": [
    "### 2.1.5. Depth of the URL:"
   ]
  },
  {
   "cell_type": "markdown",
   "id": "76eb6f85",
   "metadata": {
    "id": "76eb6f85"
   },
   "source": [
    "Here, we would compute the depth of the URL. This feature calculates the number of sub pages in the given url based on the '/'."
   ]
  },
  {
   "cell_type": "code",
   "execution_count": null,
   "id": "cd7873af",
   "metadata": {
    "id": "cd7873af"
   },
   "outputs": [],
   "source": [
    "def depthUrl(url):\n",
    "    depth = 0\n",
    "    urlSplit = urlparse(url).path.split('/')\n",
    "    for i in range(len(urlSplit)):\n",
    "        if(len(urlSplit[i]) != 0):\n",
    "            depth += 1\n",
    "    return depth"
   ]
  },
  {
   "cell_type": "markdown",
   "id": "dff7aea1",
   "metadata": {
    "id": "dff7aea1"
   },
   "source": [
    "### 2.1.6. Redirection \"//\" in the URL:"
   ]
  },
  {
   "cell_type": "markdown",
   "id": "d70842d3",
   "metadata": {
    "id": "d70842d3"
   },
   "source": [
    "We would check the presence of \"//\" in the URL. The existence of “//” within the URL path means that the user will be redirected to another website. We find that if the URL starts with “HTTP”, that means the “//” should appear in the 5th position. However, if the URL employs “HTTPS” then the “//” should appear in 6th position.\n",
    "\n",
    "If the \"//\" is anywhere else in the URL, the value assigned to this feature is 1 (phishing) or else 0 (legitimate)."
   ]
  },
  {
   "cell_type": "code",
   "execution_count": null,
   "id": "48867f27",
   "metadata": {
    "id": "48867f27"
   },
   "outputs": [],
   "source": [
    "def checkRedirUrl(url):\n",
    "    pos = url.rfind(\"//\")\n",
    "    if(pos > 6):\n",
    "        return 1\n",
    "    else:\n",
    "        return 0"
   ]
  },
  {
   "cell_type": "markdown",
   "id": "eb150b5d",
   "metadata": {
    "id": "eb150b5d"
   },
   "source": [
    "### 2.1.7. \"http/https\" in the Domain name:"
   ]
  },
  {
   "cell_type": "markdown",
   "id": "4f722293",
   "metadata": {
    "id": "4f722293"
   },
   "source": [
    "We would check for the presence of \"http/https\" in the domain part of the URL. The phishers may add the “HTTPS” token to the domain part of a URL in order to trick users.\n",
    "\n",
    "Hence, If the URL has \"http/https\" in the domain part, the value assigned to this feature is 1 (phishing) or else 0 (legitimate)."
   ]
  },
  {
   "cell_type": "code",
   "execution_count": null,
   "id": "87c96bbe",
   "metadata": {
    "id": "87c96bbe"
   },
   "outputs": [],
   "source": [
    "def checkHttpDomain(url):\n",
    "    domain = urlparse(url).netloc\n",
    "    if(\"http\" in domain or \"https\" in domain):\n",
    "        return 1\n",
    "    else: \n",
    "        return 0"
   ]
  },
  {
   "cell_type": "markdown",
   "id": "8fdd2c32",
   "metadata": {
    "id": "8fdd2c32"
   },
   "source": [
    "### 2.1.8. Using URL Shortening Services “TinyURL”:"
   ]
  },
  {
   "cell_type": "markdown",
   "id": "db61527d",
   "metadata": {
    "id": "db61527d"
   },
   "source": [
    "URL shortening is a method on the “World Wide Web” in which a URL may be made smaller in length and still lead to the required webpage. This is accomplished by means of an “HTTP Redirect” on a domain name that is short, which links to the webpage that has a long URL.\n",
    "\n",
    "Hence, If the URL is using Shortening Services, the value assigned to this feature is 1 (phishing) or else 0 (legitimate)."
   ]
  },
  {
   "cell_type": "code",
   "execution_count": null,
   "id": "07a70947",
   "metadata": {
    "id": "07a70947"
   },
   "outputs": [],
   "source": [
    "#listing atll the shortening services\n",
    "all_shortening_services = r\"bit\\.ly|goo\\.gl|shorte\\.st|go2l\\.ink|x\\.co|ow\\.ly|t\\.co|tinyurl|tr\\.im|is\\.gd|cli\\.gs|\" \\\n",
    "                      r\"yfrog\\.com|migre\\.me|ff\\.im|tiny\\.cc|url4\\.eu|twit\\.ac|su\\.pr|twurl\\.nl|snipurl\\.com|\" \\\n",
    "                      r\"short\\.to|BudURL\\.com|ping\\.fm|post\\.ly|Just\\.as|bkite\\.com|snipr\\.com|fic\\.kr|loopt\\.us|\" \\\n",
    "                      r\"doiop\\.com|short\\.ie|kl\\.am|wp\\.me|rubyurl\\.com|om\\.ly|to\\.ly|bit\\.do|t\\.co|lnkd\\.in|db\\.tt|\" \\\n",
    "                      r\"qr\\.ae|adf\\.ly|goo\\.gl|bitly\\.com|cur\\.lv|tinyurl\\.com|ow\\.ly|bit\\.ly|ity\\.im|q\\.gs|is\\.gd|\" \\\n",
    "                      r\"po\\.st|bc\\.vc|twitthis\\.com|u\\.to|j\\.mp|buzurl\\.com|cutt\\.us|u\\.bb|yourls\\.org|x\\.co|\" \\\n",
    "                      r\"prettylinkpro\\.com|scrnch\\.me|filoops\\.info|vzturl\\.com|qr\\.net|1url\\.com|tweez\\.me|v\\.gd|\" \\\n",
    "                      r\"tr\\.im|link\\.zip\\.net\""
   ]
  },
  {
   "cell_type": "code",
   "execution_count": null,
   "id": "5c611fe7",
   "metadata": {
    "id": "5c611fe7"
   },
   "outputs": [],
   "source": [
    "# Checking for Shortening Services present in the URL.\n",
    "\n",
    "def checkShortUrl(url):\n",
    "    if re.search(all_shortening_services, url):\n",
    "        return 1\n",
    "    else:\n",
    "        return 0"
   ]
  },
  {
   "cell_type": "markdown",
   "id": "799d10fa",
   "metadata": {
    "id": "799d10fa"
   },
   "source": [
    "### 2.1.9. Prefix or Suffix \"-\" in the Domain:"
   ]
  },
  {
   "cell_type": "markdown",
   "id": "42e9fe3f",
   "metadata": {
    "id": "42e9fe3f"
   },
   "source": [
    "We would check the presence of '-' in the domain part of URL. The dash symbol is rarely used in legitimate URLs. Phishers tend to add prefixes or suffixes separated by (-) to the domain name so that users feel that they are dealing with a legitimate webpage.\n",
    "\n",
    "Hence, If the URL has '-' symbol in the domain part of the URL, the value assigned to this feature is 1 (phishing) or else 0 (legitimate)."
   ]
  },
  {
   "cell_type": "code",
   "execution_count": null,
   "id": "6aa06b70",
   "metadata": {
    "id": "6aa06b70"
   },
   "outputs": [],
   "source": [
    "def checkPrefSuff(url):\n",
    "    if \"-\" in urlparse(url).netloc:\n",
    "        return 1\n",
    "    else:\n",
    "        return 0"
   ]
  },
  {
   "cell_type": "markdown",
   "id": "a55a80fb",
   "metadata": {
    "id": "a55a80fb"
   },
   "source": [
    "## 2.2. Domain based Features:"
   ]
  },
  {
   "cell_type": "markdown",
   "id": "f48e841c",
   "metadata": {
    "id": "f48e841c"
   },
   "source": [
    "The extracted features are categorized into;\n",
    "\n",
    "1. DNS Record\n",
    "2. Website Traffic\n",
    "3. Age of Domain\n",
    "3. End Period of Domain"
   ]
  },
  {
   "cell_type": "code",
   "execution_count": null,
   "id": "21ddcb2b",
   "metadata": {
    "colab": {
     "base_uri": "https://localhost:8080/"
    },
    "id": "21ddcb2b",
    "outputId": "de5a7097-4894-4eaf-9118-19a532f717ff"
   },
   "outputs": [
    {
     "name": "stdout",
     "output_type": "stream",
     "text": [
      "Collecting python-whois\n",
      "  Downloading python-whois-0.7.3.tar.gz (91 kB)\n",
      "\u001b[?25l\r",
      "\u001b[K     |███▋                            | 10 kB 20.2 MB/s eta 0:00:01\r",
      "\u001b[K     |███████▏                        | 20 kB 23.9 MB/s eta 0:00:01\r",
      "\u001b[K     |██████████▊                     | 30 kB 12.3 MB/s eta 0:00:01\r",
      "\u001b[K     |██████████████▎                 | 40 kB 9.3 MB/s eta 0:00:01\r",
      "\u001b[K     |██████████████████              | 51 kB 5.4 MB/s eta 0:00:01\r",
      "\u001b[K     |█████████████████████▌          | 61 kB 5.9 MB/s eta 0:00:01\r",
      "\u001b[K     |█████████████████████████       | 71 kB 5.7 MB/s eta 0:00:01\r",
      "\u001b[K     |████████████████████████████▋   | 81 kB 6.4 MB/s eta 0:00:01\r",
      "\u001b[K     |████████████████████████████████| 91 kB 4.2 MB/s \n",
      "\u001b[?25hRequirement already satisfied: future in /usr/local/lib/python3.7/dist-packages (from python-whois) (0.16.0)\n",
      "Building wheels for collected packages: python-whois\n",
      "  Building wheel for python-whois (setup.py) ... \u001b[?25l\u001b[?25hdone\n",
      "  Created wheel for python-whois: filename=python_whois-0.7.3-py3-none-any.whl size=87721 sha256=d6e5f611e792390747661782db706d1cead324aaa583aa40219ecde0e1625418\n",
      "  Stored in directory: /root/.cache/pip/wheels/11/05/f7/895ce5a73665f77c8274a7d55e34fb3e6b4abbb9a7637e215b\n",
      "Successfully built python-whois\n",
      "Installing collected packages: python-whois\n",
      "Successfully installed python-whois-0.7.3\n"
     ]
    }
   ],
   "source": [
    "!pip install python-whois"
   ]
  },
  {
   "cell_type": "markdown",
   "id": "b6247142",
   "metadata": {
    "id": "b6247142"
   },
   "source": [
    "### 2.2.1. DNS Record:"
   ]
  },
  {
   "cell_type": "markdown",
   "id": "dd2c29ad",
   "metadata": {
    "id": "dd2c29ad"
   },
   "source": [
    "For phishing websites, either the claimed identity is not recognized by the WHOIS database or no records founded for the hostname. If the DNS record is empty or not found then, the value assigned to this feature is 1 (phishing) or else 0 (legitimate)."
   ]
  },
  {
   "cell_type": "markdown",
   "id": "db467760",
   "metadata": {
    "id": "db467760"
   },
   "source": [
    "### 2.2.2. Website Traffic:"
   ]
  },
  {
   "cell_type": "markdown",
   "id": "bdc307de",
   "metadata": {
    "id": "bdc307de"
   },
   "source": [
    "This feature measures the popularity of the website by determining the number of visitors and the number of pages they visit. However, since phishing websites live for a short period of time, they may not be recognized by the Alexa database (Alexa the Web Information Company., 1996). By reviewing our dataset, we find that in worst scenarios, legitimate websites ranked among the top 100,000. Furthermore, if the domain has no traffic or is not recognized by the Alexa database, it is classified as “Phishing”.\n",
    "\n",
    "If the rank of the domain < 100000, the vlaue of this feature is 1 (phishing) else 0 (legitimate)."
   ]
  },
  {
   "cell_type": "code",
   "execution_count": null,
   "id": "6f86cb42",
   "metadata": {
    "id": "6f86cb42"
   },
   "outputs": [],
   "source": [
    "def checkWebTraffic(url):\n",
    "  try:\n",
    "    url = urllib.parse.quote(url)\n",
    "    rank = BeautifulSoup(urllib.request.urlopen(\"http://data.alexa.com/data?cli=10&dat=s&url=\" + url).read(), \"xml\").find(\n",
    "        \"REACH\")['RANK']\n",
    "    rank = int(rank)\n",
    "  except TypeError:\n",
    "        return 1\n",
    "  if rank < 100000:\n",
    "    return 1\n",
    "  else:\n",
    "    return 0"
   ]
  },
  {
   "cell_type": "markdown",
   "id": "b80df1a6",
   "metadata": {
    "id": "b80df1a6"
   },
   "source": [
    "### 2.2.3. Age of Domain:"
   ]
  },
  {
   "cell_type": "markdown",
   "id": "8bb2e0a8",
   "metadata": {
    "id": "8bb2e0a8"
   },
   "source": [
    "This feature can be extracted from WHOIS database. Most phishing websites live for a short period of time. The minimum age of the legitimate domain is considered to be 12 months for this project. Age here is nothing but different between creation and expiration time.\n",
    "\n",
    "If age of domain > 12 months, the vlaue of this feature is 1 (phishing) else 0 (legitimate)."
   ]
  },
  {
   "cell_type": "code",
   "execution_count": null,
   "id": "6e8bbb0f",
   "metadata": {
    "id": "6e8bbb0f"
   },
   "outputs": [],
   "source": [
    "def checkDomainAge(domain_name):\n",
    "  creation_date = domain_name.creation_date\n",
    "  expiration_date = domain_name.expiration_date\n",
    "  if (isinstance(creation_date,str) or isinstance(expiration_date,str)):\n",
    "    try:\n",
    "      creation_date = datetime.strptime(creation_date,'%Y-%m-%d')\n",
    "      expiration_date = datetime.strptime(expiration_date,\"%Y-%m-%d\")\n",
    "    except:\n",
    "      return 1\n",
    "  if ((expiration_date is None) or (creation_date is None)):\n",
    "      return 1\n",
    "  elif ((type(expiration_date) is list) or (type(creation_date) is list)):\n",
    "      return 1\n",
    "  else:\n",
    "    ageofdomain = abs((expiration_date - creation_date).days)\n",
    "    if ((ageofdomain/30) < 6):\n",
    "      return 1\n",
    "    else:\n",
    "      return 0"
   ]
  },
  {
   "cell_type": "markdown",
   "id": "533965eb",
   "metadata": {
    "id": "533965eb"
   },
   "source": [
    "### 2.2.4. End Period of Domain:"
   ]
  },
  {
   "cell_type": "markdown",
   "id": "c1570182",
   "metadata": {
    "id": "c1570182"
   },
   "source": [
    "This feature can be extracted from WHOIS database. For this feature, the remaining domain time is calculated by finding the different between expiration time & current time. The end period considered for the legitimate domain is 6 months or less for this project.\n",
    "\n",
    "If end period of domain > 6 months, the vlaue of this feature is 1 (phishing) else 0 (legitimate)."
   ]
  },
  {
   "cell_type": "code",
   "execution_count": null,
   "id": "4a9ebbb8",
   "metadata": {
    "id": "4a9ebbb8"
   },
   "outputs": [],
   "source": [
    "def checkDomainEnd(domain_name):\n",
    "  expiration_date = domain_name.expiration_date\n",
    "  if isinstance(expiration_date,str):\n",
    "    try:\n",
    "      expiration_date = datetime.strptime(expiration_date,\"%Y-%m-%d\")\n",
    "    except:\n",
    "      return 1\n",
    "  if (expiration_date is None):\n",
    "      return 1\n",
    "  elif (type(expiration_date) is list):\n",
    "      return 1\n",
    "  else:\n",
    "    today = datetime.now()\n",
    "    end = abs((expiration_date - today).days)\n",
    "    if ((end/30) < 6):\n",
    "      return 0\n",
    "    else:\n",
    "      return 1"
   ]
  },
  {
   "cell_type": "markdown",
   "id": "7d9a2304",
   "metadata": {
    "id": "7d9a2304"
   },
   "source": [
    "## 2.3. HTML and JavaScript based Features:"
   ]
  },
  {
   "cell_type": "markdown",
   "id": "47400612",
   "metadata": {
    "id": "47400612"
   },
   "source": [
    "The extracted features are categorized into;\n",
    "- IFrame Redirection\n",
    "- Status Bar Customization\n",
    "- Disabling Right Click\n",
    "- Website Forwarding"
   ]
  },
  {
   "cell_type": "markdown",
   "id": "6d1af918",
   "metadata": {
    "id": "6d1af918"
   },
   "source": [
    "### 2.3.1. IFrame Redirection:"
   ]
  },
  {
   "cell_type": "markdown",
   "id": "ca61ec44",
   "metadata": {
    "id": "ca61ec44"
   },
   "source": [
    "IFrame is an HTML tag used to display an additional webpage into one that is currently shown. Phishers can make use of the “iframe” tag and make it invisible i.e. without frame borders. In this regard, phishers make use of the “frameBorder” attribute which causes the browser to render a visual delineation.\n",
    "\n",
    "If the iframe is empty or repsonse is not found then, the value assigned to this feature is 1 (phishing) or else 0 (legitimate)."
   ]
  },
  {
   "cell_type": "code",
   "execution_count": null,
   "id": "cf5961a3",
   "metadata": {
    "id": "cf5961a3"
   },
   "outputs": [],
   "source": [
    "def checkIframe(response):\n",
    "  if response == \"\":\n",
    "      return 1\n",
    "  else:\n",
    "      if re.findall(r\"[<iframe>|<frameBorder>]\", response.text):\n",
    "          return 0\n",
    "      else:\n",
    "          return 1"
   ]
  },
  {
   "cell_type": "markdown",
   "id": "ddffc0f1",
   "metadata": {
    "id": "ddffc0f1"
   },
   "source": [
    "### 2.3.2. Status Bar Customization:"
   ]
  },
  {
   "cell_type": "markdown",
   "id": "512ac188",
   "metadata": {
    "id": "512ac188"
   },
   "source": [
    "Phishers may use JavaScript to show a fake URL in the status bar to users. To extract this feature, we must dig-out the webpage source code, particularly the “onMouseOver” event, and check if it makes any changes on the status bar\n",
    "\n",
    "If the response is empty or onmouseover is found then, the value assigned to this feature is 1 (phishing) or else 0 (legitimate)."
   ]
  },
  {
   "cell_type": "code",
   "execution_count": null,
   "id": "45b59ea8",
   "metadata": {
    "id": "45b59ea8"
   },
   "outputs": [],
   "source": [
    "def checkMouseOver(response): \n",
    "  if response == \"\" :\n",
    "    return 1\n",
    "  else:\n",
    "    if re.findall(\"<script>.+onmouseover.+</script>\", response.text):\n",
    "      return 1\n",
    "    else:\n",
    "      return 0"
   ]
  },
  {
   "cell_type": "markdown",
   "id": "178b549e",
   "metadata": {
    "id": "178b549e"
   },
   "source": [
    "### 2.3.3. Disabling Right Click:"
   ]
  },
  {
   "cell_type": "markdown",
   "id": "4d0b92b2",
   "metadata": {
    "id": "4d0b92b2"
   },
   "source": [
    "Phishers use JavaScript to disable the right-click function, so that users cannot view and save the webpage source code. This feature is treated exactly as “Using onMouseOver to hide the Link”. Nonetheless, for this feature, we will search for event “event.button==2” in the webpage source code and check if the right click is disabled.\n",
    "\n",
    "If the response is empty or onmouseover is not found then, the value assigned to this feature is 1 (phishing) or else 0 (legitimate)."
   ]
  },
  {
   "cell_type": "code",
   "execution_count": null,
   "id": "7d5e5042",
   "metadata": {
    "id": "7d5e5042"
   },
   "outputs": [],
   "source": [
    "def checkRightClick(response):\n",
    "  if response == \"\":\n",
    "    return 1\n",
    "  else:\n",
    "    if re.findall(r\"event.button ?== ?2\", response.text):\n",
    "      return 0\n",
    "    else:\n",
    "      return 1"
   ]
  },
  {
   "cell_type": "markdown",
   "id": "22dd39e0",
   "metadata": {
    "id": "22dd39e0"
   },
   "source": [
    "### 2.3.4. Website Forwarding:"
   ]
  },
  {
   "cell_type": "markdown",
   "id": "63282926",
   "metadata": {
    "id": "63282926"
   },
   "source": [
    "The fine line that distinguishes phishing websites from legitimate ones is how many times a website has been redirected. In our dataset, we find that legitimate websites have been redirected one time max. On the other hand, phishing websites containing this feature have been redirected at least 4 times."
   ]
  },
  {
   "cell_type": "code",
   "execution_count": null,
   "id": "43d7aa0c",
   "metadata": {
    "id": "43d7aa0c"
   },
   "outputs": [],
   "source": [
    "def checkForwarding(response):\n",
    "  if response == \"\":\n",
    "    return 1\n",
    "  else:\n",
    "    if len(response.history) <= 2:\n",
    "      return 0\n",
    "    else:\n",
    "      return 1"
   ]
  },
  {
   "cell_type": "markdown",
   "id": "e22dd32c",
   "metadata": {
    "id": "e22dd32c"
   },
   "source": [
    "# 3. Extracting URL Features:"
   ]
  },
  {
   "cell_type": "markdown",
   "id": "c7bb1f83",
   "metadata": {
    "id": "c7bb1f83"
   },
   "source": [
    "We would create a list and a function that calls the above defined functions and stores all the features of the URL in the list. We will extract the features of each URL and append to this list accordingly."
   ]
  },
  {
   "cell_type": "code",
   "execution_count": null,
   "id": "4582aa37",
   "metadata": {
    "id": "4582aa37"
   },
   "outputs": [],
   "source": [
    "def featureExtraction(url, label):\n",
    "#     print(url)\n",
    "    featuresList = []\n",
    " #  Address Bar based Features\n",
    "    featuresList.append(getDomain(url))\n",
    "    featuresList.append(checkIP(url))\n",
    "    featuresList.append(checkAtSymbol(url))\n",
    "    featuresList.append(lengthUrl(url))\n",
    "    featuresList.append(depthUrl(url))\n",
    "    featuresList.append(checkRedirUrl(url))\n",
    "    featuresList.append(checkHttpDomain(url))\n",
    "    featuresList.append(checkShortUrl(url))\n",
    "    featuresList.append(checkPrefSuff(url))\n",
    "    \n",
    " #  Domain based Features\n",
    "    dns = 0\n",
    "    domainName = \"\"\n",
    "    try:\n",
    "        domainName = whois.whois(urlparse(url).netloc)\n",
    " #         print(domainName)\n",
    "    except:\n",
    "        dns = 1\n",
    "    \n",
    "    featuresList.append(dns)\n",
    "    featuresList.append(checkWebTraffic(url))\n",
    "    featuresList.append(1 if dns == 1 else checkDomainAge(domainName))\n",
    "    featuresList.append(1 if dns == 1 else checkDomainEnd(domainName))\n",
    "  \n",
    " #   HTML and JavaScript based Features\n",
    "    try:\n",
    "        response = requests.get(url, timeout=5)\n",
    "    except:\n",
    "        response = \"\"\n",
    "        \n",
    "    featuresList.append(checkIframe(response))\n",
    "    featuresList.append(checkMouseOver(response))\n",
    "    featuresList.append(checkRightClick(response))\n",
    "    featuresList.append(checkForwarding(response))\n",
    "    featuresList.append(label)\n",
    "    \n",
    "    return featuresList"
   ]
  },
  {
   "cell_type": "markdown",
   "id": "6774d792",
   "metadata": {
    "id": "6774d792"
   },
   "source": [
    "# 4. Legitimate URLs:"
   ]
  },
  {
   "cell_type": "code",
   "execution_count": null,
   "id": "134466e4",
   "metadata": {
    "colab": {
     "base_uri": "https://localhost:8080/"
    },
    "id": "134466e4",
    "outputId": "df665fb5-1a45-42ac-d652-942c74d79848"
   },
   "outputs": [
    {
     "data": {
      "text/plain": [
       "(5000, 1)"
      ]
     },
     "execution_count": 33,
     "metadata": {},
     "output_type": "execute_result"
    }
   ],
   "source": [
    "df_legitimate_final.shape"
   ]
  },
  {
   "cell_type": "code",
   "execution_count": null,
   "id": "6aaa8635",
   "metadata": {
    "id": "6aaa8635"
   },
   "outputs": [],
   "source": [
    "# legitimateFeatures = []\n",
    "# label = 0\n",
    "\n",
    "# for i in range(0, 5000):\n",
    "#     print(i)\n",
    "#     url = df_legitimate_final['URLs'][i]\n",
    "#     legitimateFeatures.append(featureExtraction(url, label))"
   ]
  },
  {
   "cell_type": "code",
   "execution_count": null,
   "id": "5c21d7ca",
   "metadata": {
    "colab": {
     "base_uri": "https://localhost:8080/"
    },
    "id": "5c21d7ca",
    "outputId": "bf7a274f-f368-4949-f4e5-154062dcc472"
   },
   "outputs": [
    {
     "data": {
      "text/plain": [
       "Domain           0\n",
       "Have_IP          0\n",
       "Have_At          0\n",
       "URL_Length       0\n",
       "URL_Depth        0\n",
       "Redirection      0\n",
       "https_Domain     0\n",
       "TinyURL          0\n",
       "Prefix/Suffix    0\n",
       "DNS_Record       0\n",
       "Web_Traffic      0\n",
       "Domain_Age       0\n",
       "Domain_End       0\n",
       "iFrame           0\n",
       "Mouse_Over       0\n",
       "Right_Click      0\n",
       "Web_Forwards     0\n",
       "Label            0\n",
       "dtype: int64"
      ]
     },
     "execution_count": 37,
     "metadata": {},
     "output_type": "execute_result"
    }
   ],
   "source": [
    "feature_names = ['Domain', 'Have_IP', 'Have_At', 'URL_Length', 'URL_Depth','Redirection', \n",
    "                      'https_Domain', 'TinyURL', 'Prefix/Suffix', 'DNS_Record', 'Web_Traffic', \n",
    "                      'Domain_Age', 'Domain_End', 'iFrame', 'Mouse_Over','Right_Click', 'Web_Forwards', 'Label']\n",
    "\n",
    "df_legitimate_final = pd.DataFrame(legitimateFeatures, columns= feature_names)\n",
    "df_legitimate_final.isnull().sum()"
   ]
  },
  {
   "cell_type": "code",
   "execution_count": null,
   "id": "e51daa1a",
   "metadata": {
    "id": "e51daa1a"
   },
   "outputs": [],
   "source": [
    "# # Storing the extracted legitimate URLs features to csv file\n",
    "# df_legitimate_final.to_csv('Dataset//legitimate-urls.csv', index= False)"
   ]
  },
  {
   "cell_type": "code",
   "execution_count": null,
   "id": "fLhzsA6NSCRJ",
   "metadata": {
    "id": "fLhzsA6NSCRJ"
   },
   "outputs": [],
   "source": [
    "# phishingFeatures = []\n",
    "# label = 1\n",
    "\n",
    "# for i in range(0, 5000):\n",
    "#     print(i)\n",
    "#     url = df_phishing_final['url'][i]\n",
    "#     phishingFeatures.append(featureExtraction(url, label))"
   ]
  },
  {
   "cell_type": "code",
   "execution_count": null,
   "id": "ldm4ujxiS6i6",
   "metadata": {
    "colab": {
     "base_uri": "https://localhost:8080/",
     "height": 244
    },
    "id": "ldm4ujxiS6i6",
    "outputId": "0f4e705b-b884-45d4-ee43-80bd5990f65b"
   },
   "outputs": [
    {
     "data": {
      "text/html": [
       "<div>\n",
       "<style scoped>\n",
       "    .dataframe tbody tr th:only-of-type {\n",
       "        vertical-align: middle;\n",
       "    }\n",
       "\n",
       "    .dataframe tbody tr th {\n",
       "        vertical-align: top;\n",
       "    }\n",
       "\n",
       "    .dataframe thead th {\n",
       "        text-align: right;\n",
       "    }\n",
       "</style>\n",
       "<table border=\"1\" class=\"dataframe\">\n",
       "  <thead>\n",
       "    <tr style=\"text-align: right;\">\n",
       "      <th></th>\n",
       "      <th>Domain</th>\n",
       "      <th>Have_IP</th>\n",
       "      <th>Have_At</th>\n",
       "      <th>URL_Length</th>\n",
       "      <th>URL_Depth</th>\n",
       "      <th>Redirection</th>\n",
       "      <th>https_Domain</th>\n",
       "      <th>TinyURL</th>\n",
       "      <th>Prefix/Suffix</th>\n",
       "      <th>DNS_Record</th>\n",
       "      <th>Web_Traffic</th>\n",
       "      <th>Domain_Age</th>\n",
       "      <th>Domain_End</th>\n",
       "      <th>iFrame</th>\n",
       "      <th>Mouse_Over</th>\n",
       "      <th>Right_Click</th>\n",
       "      <th>Web_Forwards</th>\n",
       "      <th>Label</th>\n",
       "    </tr>\n",
       "  </thead>\n",
       "  <tbody>\n",
       "    <tr>\n",
       "      <th>0</th>\n",
       "      <td>meriprocaseinbanfro.42web.io</td>\n",
       "      <td>False</td>\n",
       "      <td>False</td>\n",
       "      <td>0</td>\n",
       "      <td>0</td>\n",
       "      <td>0</td>\n",
       "      <td>0</td>\n",
       "      <td>0</td>\n",
       "      <td>0</td>\n",
       "      <td>1</td>\n",
       "      <td>1</td>\n",
       "      <td>1</td>\n",
       "      <td>1</td>\n",
       "      <td>0</td>\n",
       "      <td>0</td>\n",
       "      <td>1</td>\n",
       "      <td>0</td>\n",
       "      <td>1</td>\n",
       "    </tr>\n",
       "    <tr>\n",
       "      <th>1</th>\n",
       "      <td>betasus111.blogspot.com</td>\n",
       "      <td>False</td>\n",
       "      <td>False</td>\n",
       "      <td>0</td>\n",
       "      <td>0</td>\n",
       "      <td>0</td>\n",
       "      <td>0</td>\n",
       "      <td>1</td>\n",
       "      <td>0</td>\n",
       "      <td>1</td>\n",
       "      <td>1</td>\n",
       "      <td>1</td>\n",
       "      <td>1</td>\n",
       "      <td>0</td>\n",
       "      <td>0</td>\n",
       "      <td>1</td>\n",
       "      <td>0</td>\n",
       "      <td>1</td>\n",
       "    </tr>\n",
       "    <tr>\n",
       "      <th>2</th>\n",
       "      <td>roygijvhluozwnflsypmewrstt-dot-gl44393333333.r...</td>\n",
       "      <td>False</td>\n",
       "      <td>False</td>\n",
       "      <td>1</td>\n",
       "      <td>1</td>\n",
       "      <td>0</td>\n",
       "      <td>0</td>\n",
       "      <td>1</td>\n",
       "      <td>1</td>\n",
       "      <td>1</td>\n",
       "      <td>1</td>\n",
       "      <td>1</td>\n",
       "      <td>1</td>\n",
       "      <td>0</td>\n",
       "      <td>0</td>\n",
       "      <td>1</td>\n",
       "      <td>0</td>\n",
       "      <td>1</td>\n",
       "    </tr>\n",
       "    <tr>\n",
       "      <th>3</th>\n",
       "      <td>appurl.io</td>\n",
       "      <td>False</td>\n",
       "      <td>False</td>\n",
       "      <td>0</td>\n",
       "      <td>1</td>\n",
       "      <td>0</td>\n",
       "      <td>0</td>\n",
       "      <td>0</td>\n",
       "      <td>0</td>\n",
       "      <td>1</td>\n",
       "      <td>0</td>\n",
       "      <td>1</td>\n",
       "      <td>1</td>\n",
       "      <td>0</td>\n",
       "      <td>0</td>\n",
       "      <td>1</td>\n",
       "      <td>0</td>\n",
       "      <td>1</td>\n",
       "    </tr>\n",
       "    <tr>\n",
       "      <th>4</th>\n",
       "      <td>richardbashara.com</td>\n",
       "      <td>False</td>\n",
       "      <td>False</td>\n",
       "      <td>0</td>\n",
       "      <td>3</td>\n",
       "      <td>0</td>\n",
       "      <td>0</td>\n",
       "      <td>0</td>\n",
       "      <td>0</td>\n",
       "      <td>1</td>\n",
       "      <td>1</td>\n",
       "      <td>1</td>\n",
       "      <td>1</td>\n",
       "      <td>0</td>\n",
       "      <td>0</td>\n",
       "      <td>1</td>\n",
       "      <td>0</td>\n",
       "      <td>1</td>\n",
       "    </tr>\n",
       "  </tbody>\n",
       "</table>\n",
       "</div>"
      ],
      "text/plain": [
       "                                              Domain  ...  Label\n",
       "0                       meriprocaseinbanfro.42web.io  ...      1\n",
       "1                            betasus111.blogspot.com  ...      1\n",
       "2  roygijvhluozwnflsypmewrstt-dot-gl44393333333.r...  ...      1\n",
       "3                                          appurl.io  ...      1\n",
       "4                                 richardbashara.com  ...      1\n",
       "\n",
       "[5 rows x 18 columns]"
      ]
     },
     "execution_count": 43,
     "metadata": {},
     "output_type": "execute_result"
    }
   ],
   "source": [
    "feature_names = ['Domain', 'Have_IP', 'Have_At', 'URL_Length', 'URL_Depth','Redirection', \n",
    "                      'https_Domain', 'TinyURL', 'Prefix/Suffix', 'DNS_Record', 'Web_Traffic', \n",
    "                      'Domain_Age', 'Domain_End', 'iFrame', 'Mouse_Over','Right_Click', 'Web_Forwards', 'Label']\n",
    "\n",
    "df_phishing_final = pd.DataFrame(phishingFeatures, columns= feature_names)\n",
    "df_phishing_final.head()"
   ]
  },
  {
   "cell_type": "code",
   "execution_count": null,
   "id": "-5XI7yd4TRMR",
   "metadata": {
    "id": "-5XI7yd4TRMR"
   },
   "outputs": [],
   "source": [
    "# # Storing the extracted phishing URLs features to csv file\n",
    "# df_phishing_final.to_csv('Dataset//phishing-urls.csv', index= False)"
   ]
  },
  {
   "cell_type": "markdown",
   "id": "d76164be",
   "metadata": {
    "id": "6dtnSCw8Tl8C"
   },
   "source": [
    "# 5. Final Dataset:"
   ]
  },
  {
   "cell_type": "markdown",
   "id": "6c8a7b68",
   "metadata": {},
   "source": [
    "Here, we would combine legitimate and phishing URLs into a single csv file for the Machine Learning training."
   ]
  },
  {
   "cell_type": "code",
   "execution_count": 5,
   "id": "0c4790df",
   "metadata": {},
   "outputs": [],
   "source": [
    "legitimate = pd.read_csv(\"Dataset//legitimate-urls.csv\")\n",
    "phishing = pd.read_csv(\"Dataset//phishing-urls.csv\")"
   ]
  },
  {
   "cell_type": "code",
   "execution_count": 8,
   "id": "e7a15687",
   "metadata": {},
   "outputs": [
    {
     "data": {
      "text/html": [
       "<div>\n",
       "<style scoped>\n",
       "    .dataframe tbody tr th:only-of-type {\n",
       "        vertical-align: middle;\n",
       "    }\n",
       "\n",
       "    .dataframe tbody tr th {\n",
       "        vertical-align: top;\n",
       "    }\n",
       "\n",
       "    .dataframe thead th {\n",
       "        text-align: right;\n",
       "    }\n",
       "</style>\n",
       "<table border=\"1\" class=\"dataframe\">\n",
       "  <thead>\n",
       "    <tr style=\"text-align: right;\">\n",
       "      <th></th>\n",
       "      <th>Domain</th>\n",
       "      <th>Have_IP</th>\n",
       "      <th>Have_At</th>\n",
       "      <th>URL_Length</th>\n",
       "      <th>URL_Depth</th>\n",
       "      <th>Redirection</th>\n",
       "      <th>https_Domain</th>\n",
       "      <th>TinyURL</th>\n",
       "      <th>Prefix/Suffix</th>\n",
       "      <th>DNS_Record</th>\n",
       "      <th>Web_Traffic</th>\n",
       "      <th>Domain_Age</th>\n",
       "      <th>Domain_End</th>\n",
       "      <th>iFrame</th>\n",
       "      <th>Mouse_Over</th>\n",
       "      <th>Right_Click</th>\n",
       "      <th>Web_Forwards</th>\n",
       "      <th>Label</th>\n",
       "    </tr>\n",
       "  </thead>\n",
       "  <tbody>\n",
       "    <tr>\n",
       "      <th>0</th>\n",
       "      <td>graphicriver.net</td>\n",
       "      <td>False</td>\n",
       "      <td>False</td>\n",
       "      <td>1</td>\n",
       "      <td>1</td>\n",
       "      <td>0</td>\n",
       "      <td>0</td>\n",
       "      <td>0</td>\n",
       "      <td>0</td>\n",
       "      <td>1</td>\n",
       "      <td>1</td>\n",
       "      <td>1</td>\n",
       "      <td>1</td>\n",
       "      <td>0</td>\n",
       "      <td>0</td>\n",
       "      <td>1</td>\n",
       "      <td>0</td>\n",
       "      <td>0</td>\n",
       "    </tr>\n",
       "    <tr>\n",
       "      <th>1</th>\n",
       "      <td>ecnavi.jp</td>\n",
       "      <td>False</td>\n",
       "      <td>False</td>\n",
       "      <td>1</td>\n",
       "      <td>1</td>\n",
       "      <td>1</td>\n",
       "      <td>0</td>\n",
       "      <td>0</td>\n",
       "      <td>0</td>\n",
       "      <td>1</td>\n",
       "      <td>1</td>\n",
       "      <td>1</td>\n",
       "      <td>1</td>\n",
       "      <td>0</td>\n",
       "      <td>0</td>\n",
       "      <td>1</td>\n",
       "      <td>0</td>\n",
       "      <td>0</td>\n",
       "    </tr>\n",
       "    <tr>\n",
       "      <th>2</th>\n",
       "      <td>hubpages.com</td>\n",
       "      <td>False</td>\n",
       "      <td>False</td>\n",
       "      <td>1</td>\n",
       "      <td>1</td>\n",
       "      <td>0</td>\n",
       "      <td>0</td>\n",
       "      <td>0</td>\n",
       "      <td>0</td>\n",
       "      <td>1</td>\n",
       "      <td>1</td>\n",
       "      <td>1</td>\n",
       "      <td>1</td>\n",
       "      <td>0</td>\n",
       "      <td>0</td>\n",
       "      <td>1</td>\n",
       "      <td>0</td>\n",
       "      <td>0</td>\n",
       "    </tr>\n",
       "    <tr>\n",
       "      <th>3</th>\n",
       "      <td>extratorrent.cc</td>\n",
       "      <td>False</td>\n",
       "      <td>False</td>\n",
       "      <td>1</td>\n",
       "      <td>3</td>\n",
       "      <td>0</td>\n",
       "      <td>0</td>\n",
       "      <td>0</td>\n",
       "      <td>0</td>\n",
       "      <td>1</td>\n",
       "      <td>0</td>\n",
       "      <td>1</td>\n",
       "      <td>1</td>\n",
       "      <td>0</td>\n",
       "      <td>0</td>\n",
       "      <td>1</td>\n",
       "      <td>0</td>\n",
       "      <td>0</td>\n",
       "    </tr>\n",
       "    <tr>\n",
       "      <th>4</th>\n",
       "      <td>icicibank.com</td>\n",
       "      <td>False</td>\n",
       "      <td>False</td>\n",
       "      <td>1</td>\n",
       "      <td>3</td>\n",
       "      <td>0</td>\n",
       "      <td>0</td>\n",
       "      <td>0</td>\n",
       "      <td>0</td>\n",
       "      <td>1</td>\n",
       "      <td>1</td>\n",
       "      <td>1</td>\n",
       "      <td>1</td>\n",
       "      <td>0</td>\n",
       "      <td>0</td>\n",
       "      <td>1</td>\n",
       "      <td>0</td>\n",
       "      <td>0</td>\n",
       "    </tr>\n",
       "  </tbody>\n",
       "</table>\n",
       "</div>"
      ],
      "text/plain": [
       "             Domain  Have_IP  Have_At  URL_Length  URL_Depth  Redirection  \\\n",
       "0  graphicriver.net    False    False           1          1            0   \n",
       "1         ecnavi.jp    False    False           1          1            1   \n",
       "2      hubpages.com    False    False           1          1            0   \n",
       "3   extratorrent.cc    False    False           1          3            0   \n",
       "4     icicibank.com    False    False           1          3            0   \n",
       "\n",
       "   https_Domain  TinyURL  Prefix/Suffix  DNS_Record  Web_Traffic  Domain_Age  \\\n",
       "0             0        0              0           1            1           1   \n",
       "1             0        0              0           1            1           1   \n",
       "2             0        0              0           1            1           1   \n",
       "3             0        0              0           1            0           1   \n",
       "4             0        0              0           1            1           1   \n",
       "\n",
       "   Domain_End  iFrame  Mouse_Over  Right_Click  Web_Forwards  Label  \n",
       "0           1       0           0            1             0      0  \n",
       "1           1       0           0            1             0      0  \n",
       "2           1       0           0            1             0      0  \n",
       "3           1       0           0            1             0      0  \n",
       "4           1       0           0            1             0      0  "
      ]
     },
     "execution_count": 8,
     "metadata": {},
     "output_type": "execute_result"
    }
   ],
   "source": [
    "#Concatenating the dataframes into one \n",
    "\n",
    "leg_phish_data = pd.concat([legitimate, phishing]).reset_index(drop=True)\n",
    "leg_phish_data.head()"
   ]
  },
  {
   "cell_type": "code",
   "execution_count": 9,
   "id": "6a04e5e9",
   "metadata": {},
   "outputs": [
    {
     "data": {
      "text/plain": [
       "(10000, 18)"
      ]
     },
     "execution_count": 9,
     "metadata": {},
     "output_type": "execute_result"
    }
   ],
   "source": [
    "leg_phish_data.shape"
   ]
  },
  {
   "cell_type": "code",
   "execution_count": 11,
   "id": "47fcd040",
   "metadata": {},
   "outputs": [],
   "source": [
    "# Storing the data in CSV file\n",
    "\n",
    "leg_phish_data.to_csv('Dataset//leg_phish-urls.csv', index=False)"
   ]
  },
  {
   "cell_type": "markdown",
   "id": "9af9611b",
   "metadata": {},
   "source": [
    "# 6. Refrences"
   ]
  },
  {
   "cell_type": "markdown",
   "id": "18c02a34",
   "metadata": {},
   "source": [
    "- https://archive.ics.uci.edu/ml/datasets/Phishing+Websites\n",
    "- https://github.com/shreyagopal/Phishing-Website-Detection-by-Machine-Learning-Techniques/blob/master/URL%20Feature%20Extraction.ipynb"
   ]
  }
 ],
 "metadata": {
  "colab": {
   "collapsed_sections": [],
   "name": "Feature_Engineering_Dataset.ipynb",
   "provenance": []
  },
  "kernelspec": {
   "display_name": "Python 3",
   "language": "python",
   "name": "python3"
  },
  "language_info": {
   "codemirror_mode": {
    "name": "ipython",
    "version": 3
   },
   "file_extension": ".py",
   "mimetype": "text/x-python",
   "name": "python",
   "nbconvert_exporter": "python",
   "pygments_lexer": "ipython3",
   "version": "3.8.8"
  }
 },
 "nbformat": 4,
 "nbformat_minor": 5
}
